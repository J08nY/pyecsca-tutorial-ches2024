{
 "cells": [
  {
   "cell_type": "code",
   "execution_count": null,
   "id": "e9f89f1e-9345-404b-8d03-a65e080c7950",
   "metadata": {},
   "outputs": [],
   "source": [
    "from pyecsca.sca.trace_set import InspectorTraceSet, PickleTraceSet, HDF5TraceSet\n",
    "from pyecsca.ec.params import get_params\n",
    "from pyecsca.ec.mult import LadderMultiplier\n",
    "from pyecsca.ec.point import Point\n",
    "from pyecsca.ec.mod import Mod"
   ]
  },
  {
   "cell_type": "code",
   "execution_count": null,
   "id": "e10a67dc-6f52-47c9-bb86-0743c38aba2b",
   "metadata": {},
   "outputs": [],
   "source": [
    "curve25519 = get_params(\"other\", \"Curve25519\", \"xz\")\n",
    "p = curve25519.curve.prime\n",
    "n = curve25519.order\n",
    "ladder = curve25519.curve.coordinate_model.formulas[\"ladd-1987-m-3\"]\n",
    "dbl = curve25519.curve.coordinate_model.formulas[\"dbl-1987-m-3\"]\n",
    "mult = LadderMultiplier(ladder, dbl)"
   ]
  },
  {
   "cell_type": "code",
   "execution_count": null,
   "id": "b8f20360-e7bd-4ed8-9ec3-ab934df0efba",
   "metadata": {},
   "outputs": [],
   "source": [
    "unprotected_100 = InspectorTraceSet.read(\"sca25519_unprotected_100.trs\", scale=False)"
   ]
  },
  {
   "cell_type": "code",
   "execution_count": null,
   "id": "7f2db458-f7ab-4b72-ac48-2ff0b163a496",
   "metadata": {},
   "outputs": [],
   "source": [
    "def fix_trace(trace):\n",
    "    data = trace.meta[\"data\"]\n",
    "    print(data.hex())\n",
    "    group_data = bytearray([data[0]])\n",
    "    \n",
    "    point_data = bytearray(data[1:33])\n",
    "    point_data[-1] &= 0b01111111\n",
    "    \n",
    "    scalar_data = bytearray(data[33:65])\n",
    "    # From the impl:\n",
    "    # https://github.com/sca-secure-library-sca25519/sca25519/blob/main/STM32F407-unprotected/crypto/scalarmult/scalarmult_25519.c#L125\n",
    "    scalar_data[0] &= 248\n",
    "    scalar_data[31] &= 127\n",
    "    scalar_data[31] |= 64\n",
    "    \n",
    "    result_data = bytearray(data[65:])\n",
    "    result_data[-1] &= 0b01111111\n",
    "    \n",
    "    point_x = int.from_bytes(point_data, byteorder=\"little\")\n",
    "    result_x = int.from_bytes(result_data, byteorder=\"little\")\n",
    "    scalar = int.from_bytes(scalar_data, byteorder=\"little\")\n",
    "\n",
    "    point = Point(curve25519.curve.coordinate_model, X=Mod(point_x, p), Z=Mod(1, p))\n",
    "    result = Point(curve25519.curve.coordinate_model, X=Mod(result_x, p), Z=Mod(1, p))\n",
    "    mult.init(curve25519, point)\n",
    "    r = mult.multiply(scalar)\n",
    "    mine = r.X / r.Z\n",
    "    their = result.X / result.Z\n",
    "    print(hex(int(mine)))\n",
    "    print(hex(int(their)))\n",
    "    print(mine == their)\n",
    "\n",
    "for trace in unprotected_100[:1]:\n",
    "    fix_trace(trace)"
   ]
  },
  {
   "cell_type": "code",
   "execution_count": null,
   "id": "df31efba-aff0-4cbb-9e2b-b1d2636b2ab9",
   "metadata": {},
   "outputs": [],
   "source": []
  }
 ],
 "metadata": {
  "kernelspec": {
   "display_name": "Python 3 (ipykernel)",
   "language": "python",
   "name": "python3"
  },
  "language_info": {
   "codemirror_mode": {
    "name": "ipython",
    "version": 3
   },
   "file_extension": ".py",
   "mimetype": "text/x-python",
   "name": "python",
   "nbconvert_exporter": "python",
   "pygments_lexer": "ipython3",
   "version": "3.12.2"
  }
 },
 "nbformat": 4,
 "nbformat_minor": 5
}
