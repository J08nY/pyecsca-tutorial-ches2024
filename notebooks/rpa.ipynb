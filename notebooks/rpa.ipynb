{
 "cells": [
  {
   "cell_type": "markdown",
   "id": "5b01d9ca-9b2f-4e2b-8d01-59c927c7e1fe",
   "metadata": {},
   "source": [
    "# Refined Power Analysis for RE\n",
    "\n",
    "This notebook explores using the RPA attack for reverse-engineering."
   ]
  },
  {
   "cell_type": "code",
   "execution_count": null,
   "id": "fc29e153-cb2c-4167-8b24-d7e2592b0251",
   "metadata": {},
   "outputs": [],
   "source": [
    "from binascii import hexlify\n",
    "from copy import copy\n",
    "\n",
    "from pyecsca.ec.params import get_params\n",
    "from pyecsca.ec.context import DefaultContext, local\n",
    "from pyecsca.ec.mod import Mod"
   ]
  },
  {
   "cell_type": "markdown",
   "id": "5d78f2ab-379d-44c2-b1a9-af187cbd56f0",
   "metadata": {},
   "source": [
    "### TODO\n",
    " - Multipliers differ in their \"intermediate scalars\" that they compute while computing a scalarmult.\n",
    "     - How to explore this?\n",
    "     - LTR vs RTL? prefixes vs suffixes vs windows?\n",
    " - In the RPA attack, which attacks static ECDH, one is able to detect a particular multiple of the input point is computed, by crafting a special input point and using a power side-channel.\n",
    "     - How to explore this?\n",
    "     - It is an \"oracle\", you are able to ask questions like \"is $[k]P$ computed in a given implementation when it is doing scalarmult of $[r]P$?\"\n",
    "     - Show the RPA attack. Existence of $P_0$ point, then, when you do $[k^{-1}]P_0 = P$ you get a point such that $[k]P = [k][k^{-1}]P_0 = P_0$. Then get two groups of traces of the implementation computing scalarmult with a secret (fixed) scalar, one group with random input points, other with point $P$ for some $k$. If $[k]P$ is computed, you will see a difference between these two groups at some point, because of the zero coordinate. To spot the difference, basically do DPA: average the groups and subtract their average traces, then see spike (peak detect or threshold).\n",
    " - Putting these two things together, we see that we can build a reverse-engineering method out of them."
   ]
  },
  {
   "cell_type": "markdown",
   "id": "2ecc1b6c-f520-4b06-981d-08d778ab104a",
   "metadata": {},
   "source": [
    "## Scalar multipliers\n",
    "Scalar multipliers come in all sorts of different shapes, sizes and colors. 🌈"
   ]
  },
  {
   "cell_type": "code",
   "execution_count": null,
   "id": "1b2c26e8-4645-45df-8a5f-c04d9d64d5ec",
   "metadata": {},
   "outputs": [],
   "source": [
    "from pyecsca.ec.mult import LTRMultiplier, RTLMultiplier\n",
    "from pyecsca.sca.re.rpa import MultipleContext"
   ]
  },
  {
   "cell_type": "markdown",
   "id": "5fee83c7-97df-465f-beb3-bddadf83f350",
   "metadata": {},
   "source": [
    "### <span style=\"color:#00468C; font-weight: bold;\">Exercise</span>\n",
    "\n",
    "Compare the chain of multiples that is computed in the left-to-right vs right-to-left scalar multiplier for a given fixed scalar.\n",
    "- What do these intermediate multiples (scalars) represent in the two cases?\n",
    "- When are the chains the same? When are the sets of multiples the same?\n",
    "\n",
    "**Docs**<br/>\n",
    "[LTRMultiplier](https://neuromancer.sk/pyecsca/api/pyecsca.ec.mult.binary.html#pyecsca.ec.mult.binary.LTRMultiplier)<br/>\n",
    "[RTLMultiplier](https://neuromancer.sk/pyecsca/api/pyecsca.ec.mult.binary.html#pyecsca.ec.mult.binary.RTLMultiplier)<br/>\n",
    "[MultipleContext](https://neuromancer.sk/pyecsca/api/pyecsca.sca.re.rpa.html#pyecsca.sca.re.rpa.MultipleContext)"
   ]
  },
  {
   "cell_type": "code",
   "execution_count": null,
   "id": "7df6ecf2-e642-408b-8470-7e2377650a30",
   "metadata": {},
   "outputs": [],
   "source": [
    "params = get_params(\"secg\", \"secp256r1\", \"projective\")\n",
    "add = params.curve.coordinate_model.formulas[\"add-2007-bl\"] # The formulas do not matter, but we need some\n",
    "dbl = params.curve.coordinate_model.formulas[\"dbl-2007-bl\"] # The formulas do not matter, but we need some\n",
    "\n",
    "ltr_mult = LTRMultiplier(add, dbl)\n",
    "rtl_mult = RTLMultiplier(add, dbl)\n",
    "\n",
    "# Task: Fix a scalar\n",
    "k = ...\n",
    "P = params.generator\n",
    "\n",
    "with local(MultipleContext()) as ltr_ctx:\n",
    "    # Task: Init and multiply using the LTR multiplier here\n",
    "\n",
    "with local(MultipleContext()) as rtl_ctx:\n",
    "    # Task: Init and multiply using the RTL multiplier here \n",
    "\n",
    "# Task: Compare the ltr_ctx and rtl_ctx.\n",
    "# You can look at their .points and .parents attributes."
   ]
  },
  {
   "cell_type": "markdown",
   "id": "a2a73ee7-cb70-4523-80e9-4ed0b17d9d81",
   "metadata": {},
   "source": [
    "## RPA attack"
   ]
  },
  {
   "cell_type": "code",
   "execution_count": 11,
   "id": "2860d097-d294-4a61-b89c-d73e5af0d092",
   "metadata": {},
   "outputs": [],
   "source": [
    "from pyecsca.sca.re.rpa import rpa_point_0y, rpa_point_x0, rpa_input_point"
   ]
  },
  {
   "cell_type": "markdown",
   "id": "5cdbd660-da4b-4812-90f4-2fd204f3ec31",
   "metadata": {},
   "source": [
    "### <span style=\"color:#00468C; font-weight: bold;\">Exercise</span>\n",
    "\n",
    "**Docs**<br/>\n",
    "[rpa_point_0y](https://neuromancer.sk/pyecsca/api/pyecsca.sca.re.rpa.html#pyecsca.sca.re.rpa.rpa_point_0y)<br/>\n",
    "[affine_multiply](https://neuromancer.sk/pyecsca/api/pyecsca.ec.curve.html#pyecsca.ec.curve.EllipticCurve.affine_multiply)"
   ]
  },
  {
   "cell_type": "code",
   "execution_count": 16,
   "id": "4da4bb2e-8c2a-471a-aabb-37ca29d42b28",
   "metadata": {},
   "outputs": [],
   "source": [
    "P0 = rpa_point_0y(params)\n",
    "\n",
    "# Task: Create a point P, such that P0 occurs in the scalar multiplication of [k]P using the LTR multiplier\n",
    "#       but not the RTL multiplier.\n",
    "# Hint: You can use params.curve.affine_multiply.\n",
    "# Hint: The rpa_input_point method does this all, but do not use it."
   ]
  },
  {
   "cell_type": "markdown",
   "id": "1cca0f19-d568-4859-b116-d031cefcdda6",
   "metadata": {},
   "source": [
    "## Putting it together"
   ]
  },
  {
   "cell_type": "code",
   "execution_count": null,
   "id": "c68769fc-09ce-4cce-ab40-f873b45fd8b4",
   "metadata": {},
   "outputs": [],
   "source": []
  }
 ],
 "metadata": {
  "kernelspec": {
   "display_name": "Python 3 (ipykernel)",
   "language": "python",
   "name": "python3"
  },
  "language_info": {
   "codemirror_mode": {
    "name": "ipython",
    "version": 3
   },
   "file_extension": ".py",
   "mimetype": "text/x-python",
   "name": "python",
   "nbconvert_exporter": "python",
   "pygments_lexer": "ipython3",
   "version": "3.11.8"
  }
 },
 "nbformat": 4,
 "nbformat_minor": 5
}
