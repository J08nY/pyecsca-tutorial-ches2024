{
 "cells": [
  {
   "cell_type": "markdown",
   "id": "5b01d9ca-9b2f-4e2b-8d01-59c927c7e1fe",
   "metadata": {},
   "source": [
    "# Refined Power Analysis for RE\n",
    "\n",
    "This notebook explores using the RPA attack for reverse-engineering.\n",
    "You will first explore scalar multipliers and the multiples they compute.\n",
    "Then, you will study the RPA attack.\n",
    "Finally you will put the knowledge to use in reverse-engineering."
   ]
  },
  {
   "cell_type": "code",
   "execution_count": 28,
   "id": "fc29e153-cb2c-4167-8b24-d7e2592b0251",
   "metadata": {},
   "outputs": [],
   "source": [
    "from pyecsca.ec.params import get_params, DomainParameters\n",
    "from pyecsca.ec.context import DefaultContext, local\n",
    "from pyecsca.ec.mod import Mod\n",
    "from pyecsca.ec.point import Point\n",
    "from pyecsca.ec.mult import ScalarMultiplier"
   ]
  },
  {
   "cell_type": "markdown",
   "id": "5d78f2ab-379d-44c2-b1a9-af187cbd56f0",
   "metadata": {},
   "source": [
    "### TODO\n",
    " - Multipliers differ in their \"intermediate scalars\" that they compute while computing a scalarmult.\n",
    "     - How to explore this?\n",
    "     - LTR vs RTL? prefixes vs suffixes vs windows?\n",
    " - In the RPA attack, which attacks static ECDH, one is able to detect a particular multiple of the input point is computed, by crafting a special input point and using a power side-channel.\n",
    "     - How to explore this?\n",
    "     - It is an \"oracle\", you are able to ask questions like \"is $[k]P$ computed in a given implementation when it is doing scalarmult of $[r]P$?\"\n",
    "     - Show the RPA attack. Existence of $P_0$ point, then, when you do $[k^{-1}]P_0 = P$ you get a point such that $[k]P = [k][k^{-1}]P_0 = P_0$. Then get two groups of traces of the implementation computing scalarmult with a secret (fixed) scalar, one group with random input points, other with point $P$ for some $k$. If $[k]P$ is computed, you will see a difference between these two groups at some point, because of the zero coordinate. To spot the difference, basically do DPA: average the groups and subtract their average traces, then see spike (peak detect or threshold).\n",
    " - Putting these two things together, we see that we can build a reverse-engineering method out of them."
   ]
  },
  {
   "cell_type": "markdown",
   "id": "2ecc1b6c-f520-4b06-981d-08d778ab104a",
   "metadata": {},
   "source": [
    "## Scalar multipliers\n",
    "Scalar multipliers come in all sorts of different shapes, sizes and colors. 🌈"
   ]
  },
  {
   "cell_type": "code",
   "execution_count": null,
   "id": "1b2c26e8-4645-45df-8a5f-c04d9d64d5ec",
   "metadata": {},
   "outputs": [],
   "source": [
    "from pyecsca.ec.mult import LTRMultiplier, RTLMultiplier\n",
    "from pyecsca.sca.re.rpa import MultipleContext"
   ]
  },
  {
   "cell_type": "markdown",
   "id": "5fee83c7-97df-465f-beb3-bddadf83f350",
   "metadata": {},
   "source": [
    "### <span style=\"color:#00468C; font-weight: bold;\">Exercise</span>\n",
    "\n",
    "Compare the chain of multiples that is computed in the left-to-right vs right-to-left scalar multiplier for a given fixed scalar.\n",
    "- What do these intermediate multiples (scalars) represent in the two cases?\n",
    "- When are the chains the same? When are the sets of multiples the same?\n",
    "\n",
    "**Docs**<br/>\n",
    "[LTRMultiplier](https://neuromancer.sk/pyecsca/api/pyecsca.ec.mult.binary.html#pyecsca.ec.mult.binary.LTRMultiplier)<br/>\n",
    "[RTLMultiplier](https://neuromancer.sk/pyecsca/api/pyecsca.ec.mult.binary.html#pyecsca.ec.mult.binary.RTLMultiplier)<br/>\n",
    "[MultipleContext](https://neuromancer.sk/pyecsca/api/pyecsca.sca.re.rpa.html#pyecsca.sca.re.rpa.MultipleContext)"
   ]
  },
  {
   "cell_type": "code",
   "execution_count": null,
   "id": "7df6ecf2-e642-408b-8470-7e2377650a30",
   "metadata": {},
   "outputs": [],
   "source": [
    "params = get_params(\"secg\", \"secp256r1\", \"projective\")\n",
    "add = params.curve.coordinate_model.formulas[\"add-2007-bl\"] # The formulas do not matter, but we need some\n",
    "dbl = params.curve.coordinate_model.formulas[\"dbl-2007-bl\"] # The formulas do not matter, but we need some\n",
    "\n",
    "ltr_mult = LTRMultiplier(add, dbl)\n",
    "rtl_mult = RTLMultiplier(add, dbl)\n",
    "\n",
    "# Task: Fix a scalar\n",
    "k = ...\n",
    "P = params.generator\n",
    "\n",
    "with local(MultipleContext()) as ltr_ctx:\n",
    "    # Task: Init and multiply using the LTR multiplier here\n",
    "\n",
    "with local(MultipleContext()) as rtl_ctx:\n",
    "    # Task: Init and multiply using the RTL multiplier here \n",
    "\n",
    "# Task: Compare the ltr_ctx and rtl_ctx.\n",
    "# You can look at their .points and .parents attributes."
   ]
  },
  {
   "cell_type": "markdown",
   "id": "a2a73ee7-cb70-4523-80e9-4ed0b17d9d81",
   "metadata": {},
   "source": [
    "## RPA attack\n",
    "The RPA attack (by Louis Goubin, [A Refined Power-Analysis Attack on Elliptic Curve Cryptosystems](http://www.goubin.fr/papers/ecc-dpa.pdf)) works by introducing a zero-coordinate-point into the scalar multiplication conditionally on a secret key part and then detecting the presence of the zero via a side-channel. The target is static ECDH, in which case there is a static scalar $k$ and the target is willing to compute $[k]P$ for any (reasonable) point $P$.\n",
    "\n",
    "### Smuggling the zero in\n",
    "\n",
    "In the attack, the existence of zero-coordinate points is important.\n",
    "They are either of the form $P_0 = (x, 0)$ or $P_0 = (0, y)$. The first form is less interesting, as it represents points of order 2, which are not present on prime-order elliptic curves often used in practice.\n",
    "\n",
    "During the attack, the attacker can introduces these zero-coordinate points into the scalar multiplication conditionally on some secret key hypothesis. Upon input of $P = [r^{-1}]P_0$ into the scalar multiplier, the point $P_0$ will appear inside iff the multiplier computes the $r$-th multiple of the input point, as $[r]P = [r][r^{-1}]P_0 = P_0$. In the attack, the attacker uses this to confirm hypotheses about parts of the secret key.\n",
    "\n",
    "### Detecting the zero\n",
    "\n",
    "Now that we have a way of getting the zero in, we need a way of detecting it. We will use a power (or EM) side-channel and the fact that arithmetic operations with zero values will leak in a different way than operations with non-zero values. The diagram below shows the idea (which is very similar to DPA). We will collect two groups of traces, one with the special point $P=[r^{-1}]P_0$ and one with random points $P$ input into the target. We will then average the traces in the two groups and subtract the average traces to form a Difference-of-Means (DoM) trace. If this traces has a peak we were able to distinguish between the two groups, which implies that the zero did occur in the \"special point $P$\" group, which in turn implies that the scalar multiplier computed the $r$-th multiple of the input point.\n",
    "\n",
    "![](img/rpa.svg)\n",
    "\n",
    "### Nuances\n",
    "\n",
    "The RPA attack will not work in the presence of scalar randomization countermeasures, as these effectively randomize the sequence of multiples computed while computing the $[k]P$. However, the attack is resistant against coordinate and curve randomization, because the zero-coordinate points resist randomization."
   ]
  },
  {
   "cell_type": "code",
   "execution_count": 29,
   "id": "2860d097-d294-4a61-b89c-d73e5af0d092",
   "metadata": {},
   "outputs": [],
   "source": [
    "from pyecsca.sca.re.rpa import rpa_point_0y, rpa_point_x0\n",
    "from pyecsca.sca.trace import Trace\n",
    "from pyecsca.sca.attack.leakage_model import HammingWeight"
   ]
  },
  {
   "cell_type": "markdown",
   "id": "5cdbd660-da4b-4812-90f4-2fd204f3ec31",
   "metadata": {},
   "source": [
    "### <span style=\"color:#00468C; font-weight: bold;\">Exercise</span>\n",
    "\n",
    "Practice the elements of the RPA attack.\n",
    " - Create a point P, such that $P_0$ occurs in the scalar multiplication $[k]P$ using the LTR multiplier but not the RTL multiplier.\n",
    " - Verify your construction of the point.\n",
    " - Construct the RPA oracle \"box\" from the figure above, compare it to a simulated one.\n",
    "\n",
    "**Docs**<br/>\n",
    "[rpa_point_0y](https://neuromancer.sk/pyecsca/api/pyecsca.sca.re.rpa.html#pyecsca.sca.re.rpa.rpa_point_0y)<br/>\n",
    "[Mod](https://neuromancer.sk/pyecsca/api/pyecsca.ec.mod.html#pyecsca.ec.mod.Mod)<br/>\n",
    "[affine_multiply](https://neuromancer.sk/pyecsca/api/pyecsca.ec.curve.html#pyecsca.ec.curve.EllipticCurve.affine_multiply)<br/>\n",
    "[MultipleContext](https://neuromancer.sk/pyecsca/api/pyecsca.sca.re.rpa.html#pyecsca.sca.re.rpa.MultipleContext)<br/>\n",
    "[combine module (average, subtract, ...)](https://neuromancer.sk/pyecsca/api/pyecsca.sca.trace.combine.html)<br/>"
   ]
  },
  {
   "cell_type": "code",
   "execution_count": null,
   "id": "4da4bb2e-8c2a-471a-aabb-37ca29d42b28",
   "metadata": {},
   "outputs": [],
   "source": [
    "P0 = rpa_point_0y(params)\n",
    "print(P0)\n",
    "# Task: Create a point P, such that P0 occurs in the scalar multiplication of [k]P using the LTR multiplier\n",
    "#       but not the RTL multiplier.\n",
    "# Hint: You can use params.curve.affine_multiply."
   ]
  },
  {
   "cell_type": "code",
   "execution_count": null,
   "id": "9abb7dae-5cac-4e4d-be4a-03836fbb77db",
   "metadata": {},
   "outputs": [],
   "source": [
    "# Task: Verify that your construction of the point is correct by simulating the multipliers using the MultipleContext\n",
    "#       as above and verifying that the point is present when it should be."
   ]
  },
  {
   "cell_type": "code",
   "execution_count": 30,
   "id": "a47861cd-e534-4a84-8775-e10fa6cf66f9",
   "metadata": {},
   "outputs": [],
   "source": [
    "def simulate_trace(mult: ScalarMultiplier, point: Point, scalar: int, params: DomainParameters) -> Trace:\n",
    "    with local(DefaultContext()) as ctx:\n",
    "        mult.init(params, point)\n",
    "        mult.multiply(scalar)\n",
    "\n",
    "    lm = HammingWeight()\n",
    "    trace = []\n",
    "\n",
    "    def callback(action):\n",
    "        if isinstance(action, FormulaAction):\n",
    "            for intermediate in action.op_results:\n",
    "                leak = lm(intermediate.value)\n",
    "                trace.append(leak)\n",
    "\n",
    "    ctx.actions.walk(callback)\n",
    "    return Trace(np.array(trace))\n",
    "\n",
    "def simulated_oracle(mult: ScalarMultiplier, point: Point, scalar: int, params: DomainParameters) -> bool:\n",
    "    with local(MultipleContext()) as ctx:\n",
    "        mult.init(params, point)\n",
    "        mult.multiply(scalar)\n",
    "    points = set(ctx.parents.keys())\n",
    "    parents = set(sum((ctx.parents[point] for point in points), []))\n",
    "    zero = any(map(lambda P: P.X == 0 or P.Y == 0, parents)) # Did zero happen in some input point during the scalarmult?\n",
    "    return zero\n",
    "\n",
    "def rpa_oracle(mult: ScalarMultiplier, point: Point, scalar: int, params: DomainParameters) -> bool:\n",
    "    # simulate a group of traces using \"point\" (this is P = [r^{-1}]P_0 from the diagram)\n",
    "    # simulate a group of traces using random points\n",
    "    # average, subtract, and decide on the result\n",
    "    pass\n",
    "\n",
    "# Task: Use the \"simulate_trace\" function to implement the \"rpa_oracle\" function\n",
    "# Task: Compare your \"rpa_oracle\" function to the \"simulated_oracle\" function that is the ground truth"
   ]
  },
  {
   "cell_type": "markdown",
   "id": "f4f5d66f-0f63-4a0a-832c-aa8f51e22b66",
   "metadata": {},
   "source": [
    "TODO: Maybe make the \"nuances\" part a question/exercise actually?"
   ]
  },
  {
   "cell_type": "markdown",
   "id": "1cca0f19-d568-4859-b116-d031cefcdda6",
   "metadata": {},
   "source": [
    "## Putting it together\n"
   ]
  },
  {
   "cell_type": "markdown",
   "id": "69b8d6a7-fb3d-4060-b9d5-4486c69eea5b",
   "metadata": {},
   "source": [
    "TODO: Task for actually reverse-engineering.\n",
    "\n",
    "Pick a scalar, collect answers from simulated oracle into table.\n",
    "Then, how do you proceed to most effectively distinguish configs? Which input/question to pick?\n",
    "-> distinguishing tree"
   ]
  },
  {
   "cell_type": "markdown",
   "id": "5065a6cb-d27b-45eb-b4ac-111b03e145b5",
   "metadata": {},
   "source": [
    "TODO: Task, show that some countermeasures do not work (coordinate randomization)."
   ]
  },
  {
   "cell_type": "markdown",
   "id": "4345870a-088f-4374-b63f-9751f32823bc",
   "metadata": {},
   "source": [
    "### <span style=\"color:#00468C; font-weight: bold;\">Exercise</span>\n",
    "\n",
    "**Docs**"
   ]
  },
  {
   "cell_type": "code",
   "execution_count": null,
   "id": "e910b76e-5fcd-4329-b6ce-24b76baf5ea2",
   "metadata": {},
   "outputs": [],
   "source": []
  }
 ],
 "metadata": {
  "kernelspec": {
   "display_name": "Python 3 (ipykernel)",
   "language": "python",
   "name": "python3"
  },
  "language_info": {
   "codemirror_mode": {
    "name": "ipython",
    "version": 3
   },
   "file_extension": ".py",
   "mimetype": "text/x-python",
   "name": "python",
   "nbconvert_exporter": "python",
   "pygments_lexer": "ipython3",
   "version": "3.11.8"
  }
 },
 "nbformat": 4,
 "nbformat_minor": 5
}
