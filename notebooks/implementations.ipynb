{
 "cells": [
  {
   "cell_type": "markdown",
   "id": "c1a77dda-b8f2-4812-b5a6-001206de9f1d",
   "metadata": {},
   "source": [
    "# Implementations\n",
    "\n",
    "This notebook delves into the world of ECC implementations."
   ]
  },
  {
   "cell_type": "markdown",
   "id": "71e8d42a-3337-4529-84d0-fe9f5a327aaf",
   "metadata": {},
   "source": [
    "Questions?\n",
    " - What is an ECC implementation?\n",
    " - How many ECC implementations are there?\n",
    " - How many are used in practice in OSS?\n",
    " - How different are they? How does their behavior differ?\n",
    " \n",
    "Exercises?\n",
    " - Implement scalarmult\n",
    " - Observe different intermediate values (or traces) somehow? Perhaps multiples computed?\n",
    " - Count implementations?\n",
    " - Look at an OSS implementation and describe it?\n",
    " - Implement some countermeasure?"
   ]
  },
  {
   "cell_type": "code",
   "execution_count": null,
   "id": "4fdf256f-ed10-42fe-934d-19d9462e1e5f",
   "metadata": {},
   "outputs": [],
   "source": []
  }
 ],
 "metadata": {
  "kernelspec": {
   "display_name": "Python 3 (ipykernel)",
   "language": "python",
   "name": "python3"
  },
  "language_info": {
   "codemirror_mode": {
    "name": "ipython",
    "version": 3
   },
   "file_extension": ".py",
   "mimetype": "text/x-python",
   "name": "python",
   "nbconvert_exporter": "python",
   "pygments_lexer": "ipython3",
   "version": "3.11.8"
  }
 },
 "nbformat": 4,
 "nbformat_minor": 5
}
