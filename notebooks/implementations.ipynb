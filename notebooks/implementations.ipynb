{
 "cells": [
  {
   "cell_type": "markdown",
   "id": "c1a77dda-b8f2-4812-b5a6-001206de9f1d",
   "metadata": {},
   "source": [
    "# Implementations\n",
    "\n",
    "This notebook delves into the world of ECC implementations.\n",
    "\n",
    " - You will first [analyze traces](#Manual-analysis) collected from a Curve25519 implementation to learn information about the implementation.\n",
    "    - How many iterations are in the scalar multiplier?\n",
    "    - Is the scalar multiplier left-to-right or right-to-left?\n",
    " - Then you will explore the number of ECC implementations [combinatorially](#Implementation-space)."
   ]
  },
  {
   "cell_type": "markdown",
   "id": "e0492407-4c2f-456d-8be4-411f378ec272",
   "metadata": {},
   "source": [
    "## Manual analysis\n",
    "\n",
    "[sca25519](https://github.com/sca-secure-library-sca25519/sca25519) is an open-source implementation of the Curve25519 key-exchange (XDH) for the ARM Cortex-M4. It contains three **implementations**:\n",
    "\n",
    " - unprotected\n",
    " - ephemeral\n",
    " - static\n",
    "\n",
    "that contain different countermeasures, with the unprotected one being free of any.\n",
    "\n",
    "You will work with three trace sets of scalar multiplication:\n",
    " - **A**: [Download](https://neuromancer.sk/static/traces_A.pickle) Traces of the full scalar multiplication. 10 traces per implementation: all implementations. Fixed scalar and point.\n",
    " - **B**: [Download](https://neuromancer.sk/static/traces_B.pickle) Traces of the beginning of the scalar multiplication. 1000 traces per group: random point group, random scalar group. Unprotected implementation.\n",
    " - **C**: [Download](https://neuromancer.sk/static/traces_C.pickle) Traces of the end of the scalar multiplication. 1000 traces. Unprotected implementation. Random scalar. "
   ]
  },
  {
   "cell_type": "code",
   "execution_count": null,
   "id": "4fdf256f-ed10-42fe-934d-19d9462e1e5f",
   "metadata": {},
   "outputs": [],
   "source": [
    "from pyecsca.sca.trace_set import PickleTraceSet, HDF5TraceSet\n",
    "from pyecsca.sca.trace import Trace\n",
    "from pyecsca.ec.params import get_params\n",
    "from pyecsca.ec.point import Point\n",
    "from pyecsca.ec.mod import Mod\n",
    "\n",
    "import holoviews as hv\n",
    "import numpy as np"
   ]
  },
  {
   "cell_type": "code",
   "execution_count": null,
   "id": "3431cbae-e144-48d4-ac6d-5cd81803b565",
   "metadata": {},
   "outputs": [],
   "source": [
    "hv.extension(\"bokeh\")\n",
    "%opts RGB [height=600, responsive=True]"
   ]
  },
  {
   "cell_type": "code",
   "execution_count": null,
   "id": "d692b600-d137-45be-a108-ef44ceba0d90",
   "metadata": {
    "scrolled": true
   },
   "outputs": [],
   "source": [
    "curve25519 = get_params(\"other\", \"Curve25519\", \"xz\")\n",
    "p = curve25519.curve.prime\n",
    "n = curve25519.order"
   ]
  },
  {
   "cell_type": "markdown",
   "id": "6b6debfe-7f14-4a71-ba15-3661deadcb58",
   "metadata": {},
   "source": [
    "### <span style=\"color:#00468C; font-weight: bold;\">Exercise</span>\n",
    "\n",
    "Use trace set **A** and visually analyze the traces:\n",
    "\n",
    " - Plot them.\n",
    " - Compare them between implementations.\n",
    " - Process them using e.g. rolling mean and count peaks on them.\n",
    " - How many iterations does the scalar multiplier have in the unprotected case?\n",
    "\n",
    "**Docs**<br/>\n",
    "[plot module](https://neuromancer.sk/pyecsca/api/pyecsca.sca.trace.plot.html)<br/>\n",
    "[rolling_mean](https://neuromancer.sk/pyecsca/api/pyecsca.sca.trace.process.html#pyecsca.sca.trace.process.rolling_mean)<br/>\n",
    "[scipy.signal.find_peaks](https://docs.scipy.org/doc/scipy/reference/generated/scipy.signal.find_peaks.html)"
   ]
  },
  {
   "cell_type": "code",
   "execution_count": null,
   "id": "f102fcc5-7336-4b62-8885-6eea814ea01b",
   "metadata": {},
   "outputs": [],
   "source": [
    "from pyecsca.sca.trace.plot import plot_trace, plot_traces\n",
    "from pyecsca.sca.trace.process import rolling_mean\n",
    "from scipy.signal import find_peaks\n",
    "\n",
    "def plot_trace_peaks(peaks, trace):\n",
    "    return plot_trace(trace) * hv.Points((peaks, trace.samples[peaks])).opts(color=\"red\")"
   ]
  },
  {
   "cell_type": "code",
   "execution_count": null,
   "id": "d8cd0750-0d36-4f39-b1d5-f8e784d4aaad",
   "metadata": {},
   "outputs": [],
   "source": [
    "traces_A = PickleTraceSet.read(\"traces_A.pickle\")"
   ]
  },
  {
   "cell_type": "code",
   "execution_count": null,
   "id": "51733225-70a0-4de3-91c6-50ee7fe08423",
   "metadata": {},
   "outputs": [],
   "source": [
    "traces_A[0]"
   ]
  },
  {
   "cell_type": "code",
   "execution_count": null,
   "id": "84a0ef7c-de81-4eba-9202-88fee88a009b",
   "metadata": {},
   "outputs": [],
   "source": [
    "# Task: Plot two traces from the unprotected implementation.\n",
    "# Hint: Look at the .meta attribute of the traces."
   ]
  },
  {
   "cell_type": "code",
   "execution_count": null,
   "id": "be5313a1-bb2f-468b-b444-6118072e4b77",
   "metadata": {},
   "outputs": [],
   "source": [
    "# Task: Plot traces from the other implementations."
   ]
  },
  {
   "cell_type": "code",
   "execution_count": null,
   "id": "253fa06d-5dda-4ba9-9f14-062988f07d33",
   "metadata": {},
   "outputs": [],
   "source": [
    "# Task: Use rolling_mean and find_peaks to count the iterations in the unprotected implementation\n",
    "# Note: Before applying the rolling mean, make sure to transform the dtype of the trace by doing trace.astype(np.float32) and using the result.\n",
    "# Hint: You can use plot_trace_peaks to plot the trace along with the detected peaks from find_peaks.\n",
    "\n",
    "# Hint: Explore the documentation of find_peaks and play with its parameters."
   ]
  },
  {
   "cell_type": "markdown",
   "id": "a3ae0be7-21b9-4054-8a71-dabff73a2636",
   "metadata": {},
   "source": [
    "### <span style=\"color:#00468C; font-weight: bold;\">Exercise</span>\n",
    "\n",
    "Use trace sets **B** and **C** and correlate the bits at the beginning and end of the scalar with the trace sets (respectively).\n",
    "\n",
    " - Is the multiplier left-to-right or right-to-left?\n",
    "\n",
    "\n",
    "**Docs**<br/>\n",
    "[pearsonr](https://docs.scipy.org/doc/scipy/reference/generated/scipy.stats.pearsonr.html)"
   ]
  },
  {
   "cell_type": "markdown",
   "id": "ca623f2d-6823-461c-a91e-ad1510b02179",
   "metadata": {
    "jp-MarkdownHeadingCollapsed": true
   },
   "source": [
    "### <span style=\"color:#00468C; font-weight: bold;\">Exercise</span>\n",
    "\n",
    "Use trace set **C** and correlate some of the bits in the result of the scalar multiplication with the traces.\n",
    "\n",
    " - Where do you see correlation? What does it mean?\n",
    "\n",
    "\n",
    "**Docs**<br/>\n",
    "[pearsonr](https://docs.scipy.org/doc/scipy/reference/generated/scipy.stats.pearsonr.html)"
   ]
  },
  {
   "cell_type": "markdown",
   "id": "15a77ef6-12ec-4497-8c98-7a3fb32b1bb2",
   "metadata": {},
   "source": [
    "## Implementation space\n",
    "TODO"
   ]
  },
  {
   "cell_type": "code",
   "execution_count": null,
   "id": "28f14b0c-25d4-4149-98d6-a32ab8ee1857",
   "metadata": {},
   "outputs": [],
   "source": []
  }
 ],
 "metadata": {
  "kernelspec": {
   "display_name": "Python 3 (ipykernel)",
   "language": "python",
   "name": "python3"
  },
  "language_info": {
   "codemirror_mode": {
    "name": "ipython",
    "version": 3
   },
   "file_extension": ".py",
   "mimetype": "text/x-python",
   "name": "python",
   "nbconvert_exporter": "python",
   "pygments_lexer": "ipython3",
   "version": "3.12.2"
  }
 },
 "nbformat": 4,
 "nbformat_minor": 5
}
