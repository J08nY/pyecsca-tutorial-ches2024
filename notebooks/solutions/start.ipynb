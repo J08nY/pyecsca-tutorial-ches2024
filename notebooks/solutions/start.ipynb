{
 "cells": [
  {
   "cell_type": "markdown",
   "id": "d6ca8407-5e18-4b4e-8187-d002521f2711",
   "metadata": {},
   "source": [
    "# Quickstart\n",
    "This notebook serves as a quickstart into the **pyecsca** toolkit that you will be using during the tutorial.\n",
    "\n",
    " - [Quickstart](Quickstart)\n",
    " - [Docs](#Docs)\n",
    " - [Exercise](#Exercise)"
   ]
  },
  {
   "cell_type": "markdown",
   "id": "f2f68d92-f70f-485e-96a2-66b40b7d2469",
   "metadata": {},
   "source": [
    "## Jupyter\n",
    "**pyecsca** uses Jupyter notebooks as the main interface for working with the toolkit. Consult the cheat-sheet below if you have not worked with Jupyter notebooks before.\n",
    "\n",
    "[![](../img/Jupyterlab_Cheat_Sheet.svg)](../img/Jupyterlab_Cheat_Sheet.pdf)"
   ]
  },
  {
   "cell_type": "code",
   "execution_count": null,
   "id": "5dd56085-f091-412a-aa6c-07b344f8233f",
   "metadata": {},
   "outputs": [],
   "source": [
    "import numpy as np\n",
    "import holoviews as hv\n",
    "\n",
    "from pyecsca.ec.key_generation import KeyGeneration\n",
    "from pyecsca.ec.key_agreement import ECDH_SHA1\n",
    "from pyecsca.ec.signature import ECDSA_SHA1\n",
    "from pyecsca.ec.params import get_params\n",
    "from pyecsca.ec.mult import LTRMultiplier\n",
    "from pyecsca.ec.context import DefaultContext, local\n",
    "from pyecsca.ec.mod import mod, Mod\n",
    "\n",
    "from pyecsca.sca.trace import Trace\n",
    "from pyecsca.sca.trace.plot import plot_trace, plot_traces\n",
    "from pyecsca.sca.trace.process import absolute\n",
    "\n",
    "hv.extension(\"bokeh\")\n",
    "%opts RGB [height=600, responsive=True]"
   ]
  },
  {
   "cell_type": "markdown",
   "id": "744a1fd9-7244-46dd-8fd9-7782abeb37d5",
   "metadata": {},
   "source": [
    "First, let's get some curves. 💃\n",
    "\n",
    "The cell below loads the `secp256r1` curve in the `secg` category, in `projective` coordinates, from the store of standard curves [std-curves](https://github.com/J08nY/std-curves) included in **pyecsca**."
   ]
  },
  {
   "cell_type": "code",
   "execution_count": null,
   "id": "402deb55-5df2-4cae-bbd2-0befbd404f1e",
   "metadata": {},
   "outputs": [],
   "source": [
    "p256 = get_params(\"secg\", \"secp256r1\", \"projective\")\n",
    "p256"
   ]
  },
  {
   "cell_type": "markdown",
   "id": "7dcd1473-ff3c-4a2d-91e1-32e748e4b5bf",
   "metadata": {},
   "source": [
    "You can examine the domain parameters, they consist of the curve, the generator, the order and cofactor."
   ]
  },
  {
   "cell_type": "code",
   "execution_count": null,
   "id": "45568d19-0d23-4e1c-a64a-43a30e300c43",
   "metadata": {},
   "outputs": [],
   "source": [
    "curve = p256.curve\n",
    "generator = p256.generator\n",
    "print(repr(curve))\n",
    "print(repr(generator))\n",
    "print(p256.order, p256.cofactor)"
   ]
  },
  {
   "cell_type": "markdown",
   "id": "39418948-cb37-4e5e-9d22-7c7452cd1db2",
   "metadata": {},
   "source": [
    "The curve has a model (Short-Weierstrass, Montgomery, Twisted Edwards or Edwards), some parameters and a prime defining the field.\n",
    "The curve also has a coordinate model (a coordinate system, in this case homogenous projective)."
   ]
  },
  {
   "cell_type": "code",
   "execution_count": null,
   "id": "36891ece-077b-457c-b705-986405a9e156",
   "metadata": {},
   "outputs": [],
   "source": [
    "model = p256.curve.model\n",
    "coords = p256.curve.coordinate_model\n",
    "print(repr(model))\n",
    "print(repr(coords))"
   ]
  },
  {
   "cell_type": "markdown",
   "id": "0713b56a-206a-4591-87aa-ecd9a712beab",
   "metadata": {},
   "source": [
    "The generator is a point on the curve, in projective coordinates."
   ]
  },
  {
   "cell_type": "code",
   "execution_count": null,
   "id": "786b63ac-affd-472a-96a1-47a0e66353f9",
   "metadata": {},
   "outputs": [],
   "source": [
    "print(repr(generator))\n",
    "affine_generator = generator.to_affine()\n",
    "print(repr(affine_generator))"
   ]
  },
  {
   "cell_type": "markdown",
   "id": "0f800339-ddca-46db-a007-0e98223c58ea",
   "metadata": {},
   "source": [
    "We can also do some basic calculations with the affine generator point."
   ]
  },
  {
   "cell_type": "code",
   "execution_count": null,
   "id": "5f8e89a9-e39d-40e9-a196-eef166bd40ec",
   "metadata": {},
   "outputs": [],
   "source": [
    "print(\"Times 5\", curve.affine_multiply(affine_generator, 5))\n",
    "print(\"Twice\",   curve.affine_double(affine_generator))\n",
    "print(\"Random\",  curve.affine_random())\n",
    "print(\"x=123\",   curve.affine_lift_x(mod(123, curve.prime)))"
   ]
  },
  {
   "cell_type": "markdown",
   "id": "75939954-eef7-41f4-822b-f16088b6a3bf",
   "metadata": {},
   "source": [
    "Or with individual finite-field elements."
   ]
  },
  {
   "cell_type": "code",
   "execution_count": null,
   "id": "a0db2773-67d8-4dc3-817e-77c12eb32901",
   "metadata": {},
   "outputs": [],
   "source": [
    "k = mod(123, curve.prime)\n",
    "l = Mod.random(curve.prime)\n",
    "print(k, l)\n",
    "print(k.inverse())\n",
    "print(k.sqrt())\n",
    "print(k + l)"
   ]
  },
  {
   "cell_type": "markdown",
   "id": "ea0dbdde-6391-40f6-93ac-d60013d4a094",
   "metadata": {},
   "source": [
    "Let's examine the curve model and coordinate model objects. These hold the data on coordinate systems and formulas extracted from the [EFD](https://www.hyperelliptic.org/EFD/)."
   ]
  },
  {
   "cell_type": "code",
   "execution_count": null,
   "id": "2d8d7f16-6d2e-4919-946c-137557017a7e",
   "metadata": {},
   "outputs": [],
   "source": [
    "for name, coordinates in model.coordinates.items():\n",
    "    print(f\"{name:13}{coordinates!r}\")\n",
    "print(\"----------\")\n",
    "for name, formula in coords.formulas.items():\n",
    "    print(f\"{name:15}{formula.shortname:10}{formula}\")"
   ]
  },
  {
   "cell_type": "markdown",
   "id": "980230f0-6646-4a20-973a-22ce6b03d8e4",
   "metadata": {},
   "source": [
    "## Traces\n",
    "There is also functionality to work with traces from side-channel measurement. For example, plotting.\n",
    "Explore the plot UI below, zoom in, scroll, etc."
   ]
  },
  {
   "cell_type": "code",
   "execution_count": null,
   "id": "6593003d-6e09-45ea-9bbb-d406412fb61f",
   "metadata": {},
   "outputs": [],
   "source": [
    "rng = np.random.default_rng()\n",
    "trace = Trace(rng.standard_normal(1000), meta={\"stuff\": \"Some metadata here\", \"a\": 1})\n",
    "plot_trace(trace)"
   ]
  },
  {
   "cell_type": "markdown",
   "id": "d2d57105-bebc-4cca-b59b-c419cca31b6b",
   "metadata": {},
   "source": [
    "You can access the metadata of a trace:"
   ]
  },
  {
   "cell_type": "code",
   "execution_count": null,
   "id": "b37ec140-f150-4846-a423-dc3a9adfd2f7",
   "metadata": {},
   "outputs": [],
   "source": [
    "trace.meta"
   ]
  },
  {
   "cell_type": "markdown",
   "id": "2fcba165-1826-4eb5-8a32-3cef4586eea9",
   "metadata": {},
   "source": [
    "The samples of the trace are just an ordinary numpy array. You can thus use any numpy-adjacent libraries with it, like numpy or scipy."
   ]
  },
  {
   "cell_type": "code",
   "execution_count": null,
   "id": "1b407b71-f6dc-4050-a070-00e9b374eb8e",
   "metadata": {},
   "outputs": [],
   "source": [
    "from scipy.signal import find_peaks\n",
    "\n",
    "peaks, heights = find_peaks(trace.samples, height=2)\n",
    "plot_trace(trace) * hv.Points((peaks, trace.samples[peaks])).opts(color=\"red\")"
   ]
  },
  {
   "cell_type": "markdown",
   "id": "53b0166f-2f38-4885-92ef-21ca7c8a4f43",
   "metadata": {},
   "source": [
    "There are also trace manipulation functions directly included in the toolkit, for example the absolute value"
   ]
  },
  {
   "cell_type": "code",
   "execution_count": null,
   "id": "ad710cae-0b7b-4bf3-a9bf-a0743a307347",
   "metadata": {},
   "outputs": [],
   "source": [
    "absolute_trace = absolute(trace)\n",
    "plot_trace(absolute_trace)"
   ]
  },
  {
   "cell_type": "markdown",
   "id": "c025322a-cccc-4ac0-8cf8-041c54761c29",
   "metadata": {},
   "source": [
    "## Simulation\n",
    "**pyecsca** is able to simulate computation of key generation, ECDH and ECDSA while tracing particular actions performed by the implementation as well as intermediate values. These traces are collected by the context (see the [Context](https://pyecsca.org/api/pyecsca.ec.context.html#pyecsca.ec.context.Context) and [DefaultContext](https://pyecsca.org/api/pyecsca.ec.context.html#pyecsca.ec.context.DefaultContext) classes).\n",
    "\n",
    "These traces are useful for attacks which rely on computing particular intermediate values during the ECC computation, but also for reverse-engineering."
   ]
  },
  {
   "cell_type": "markdown",
   "id": "3f550e28-3ea0-45c0-8b31-ae8ae6804f4e",
   "metadata": {},
   "source": [
    "Let's pick some formulas and construct a basic left-to-right scalar multiplier.\n",
    "\n",
    "![](../img/ltr.svg)"
   ]
  },
  {
   "cell_type": "code",
   "execution_count": null,
   "id": "844d0d8d-6ff7-4c6b-91a6-4cfce4a7a9cf",
   "metadata": {},
   "outputs": [],
   "source": [
    "add = coords.formulas[\"add-2007-bl\"]\n",
    "dbl = coords.formulas[\"dbl-2007-bl\"]\n",
    "scl = coords.formulas[\"z\"]\n",
    "\n",
    "mult = LTRMultiplier(add, dbl, scl)"
   ]
  },
  {
   "cell_type": "markdown",
   "id": "4f222af0-ae58-4ab5-8ed3-4fec516b1eec",
   "metadata": {},
   "source": [
    "Now we can instantiate a default context, initialize the multiplier and multiply with a picked scalar."
   ]
  },
  {
   "cell_type": "code",
   "execution_count": null,
   "id": "b41fb354-f548-4fb5-a9b6-c65587367c80",
   "metadata": {},
   "outputs": [],
   "source": [
    "with local(DefaultContext()) as ctx:\n",
    "    mult.init(p256, generator)\n",
    "    res = mult.multiply(123456789)"
   ]
  },
  {
   "cell_type": "markdown",
   "id": "fb2ec21f-9897-40d6-8401-a7f5f4e2e2e2",
   "metadata": {},
   "source": [
    "The result is available:"
   ]
  },
  {
   "cell_type": "code",
   "execution_count": null,
   "id": "641ea5ca-4760-4b4b-9153-d3f109f2dbcc",
   "metadata": {},
   "outputs": [],
   "source": [
    "res"
   ]
  },
  {
   "cell_type": "markdown",
   "id": "649a0622-0e67-4570-a6a0-68163e88626e",
   "metadata": {},
   "source": [
    "We can also observe the actions taken while inside the context. They form a tree:"
   ]
  },
  {
   "cell_type": "code",
   "execution_count": null,
   "id": "980c7f3b-abd1-435c-9dfc-e9735d47c0a8",
   "metadata": {},
   "outputs": [],
   "source": [
    "tree = ctx.actions[0]\n",
    "tree"
   ]
  },
  {
   "cell_type": "code",
   "execution_count": null,
   "id": "f76d322f-01f2-4612-8f27-407b52f4afd2",
   "metadata": {},
   "outputs": [],
   "source": [
    "scalarmult_node = tree.get_by_index([])\n",
    "subtree = scalarmult_node.children"
   ]
  },
  {
   "cell_type": "markdown",
   "id": "9e0becf1-254d-455f-a21a-0dd334d97d92",
   "metadata": {},
   "source": [
    "## <span style=\"color:#00468C; font-weight: bold;\">Exercise</span>\n",
    "Now, you can try to look at the sequence of formula applications and extract the scalar from them, given that a simple left-to-right double-and-add scalarmult was used.\n",
    "\n",
    "**Docs**<br/>\n",
    "[FormulaAction](https://pyecsca.org/api/pyecsca.ec.formula.base.html#pyecsca.ec.formula.base.FormulaAction)\n",
    "\n",
    "**Hint**: You can get the type of the formula (i.e. `\"add\"` or `\"dbl\"`) from the node by accessing `node.action.formula.shortname`."
   ]
  },
  {
   "cell_type": "code",
   "execution_count": null,
   "id": "9e18ebe6-086d-4ce9-a8d9-309f59274c82",
   "metadata": {},
   "outputs": [],
   "source": [
    "recovered_privkey = 1\n",
    "for node in subtree:\n",
    "    print(node.action, node.action.formula.shortname)\n",
    "    if node.action.formula.shortname == \"add\":\n",
    "        recovered_privkey |= 1\n",
    "    elif node.action.formula.shortname == \"dbl\":\n",
    "        recovered_privkey <<= 1\n",
    "\n",
    "print(recovered_privkey)"
   ]
  },
  {
   "cell_type": "code",
   "execution_count": null,
   "id": "afc23eab-08ab-440b-9412-b5538d641692",
   "metadata": {},
   "outputs": [],
   "source": []
  }
 ],
 "metadata": {
  "kernelspec": {
   "display_name": "Python 3 (ipykernel)",
   "language": "python",
   "name": "python3"
  },
  "language_info": {
   "codemirror_mode": {
    "name": "ipython",
    "version": 3
   },
   "file_extension": ".py",
   "mimetype": "text/x-python",
   "name": "python",
   "nbconvert_exporter": "python",
   "pygments_lexer": "ipython3",
   "version": "3.12.4"
  }
 },
 "nbformat": 4,
 "nbformat_minor": 5
}
