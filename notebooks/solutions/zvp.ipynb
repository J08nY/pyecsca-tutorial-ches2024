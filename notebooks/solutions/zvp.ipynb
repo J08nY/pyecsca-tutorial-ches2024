{
 "cells": [
  {
   "cell_type": "markdown",
   "id": "8e5df7e4-9287-41a4-959a-41e37473068d",
   "metadata": {},
   "source": [
    "# Zero Value Point attack for RE\n",
    "\n",
    "This (**bonus**) notebook explores the use of the ZVP attack for reverse-engineering.\n",
    "\n",
    " - You will first explore [symbolic execution](#Symbolic-formula-execution) of elliptic curve addition formulas.\n",
    " - Then you will [construct ZVP-points](#Constructing-ZVP-points) that lead to a zero intermediate value in a given formula.\n",
    " - Finally, you will use the points to [distinguish between the formulas](#Distinguishing-formulas)."
   ]
  },
  {
   "cell_type": "code",
   "execution_count": null,
   "id": "b2da5626-f1cc-4688-8a61-71b7044d77a0",
   "metadata": {},
   "outputs": [],
   "source": [
    "import re\n",
    "from sympy import FF, ZZ, symbols, Poly\n",
    "\n",
    "from pyecsca.ec.model import ShortWeierstrassModel\n",
    "from pyecsca.ec.coordinates import AffineCoordinateModel\n",
    "from pyecsca.ec.curve import EllipticCurve\n",
    "from pyecsca.ec.params import DomainParameters, get_params\n",
    "from pyecsca.ec.point import Point\n",
    "from pyecsca.ec.mod import mod, SymbolicMod\n",
    "from pyecsca.ec.mult import LTRMultiplier, AccumulationOrder\n",
    "from pyecsca.ec.context import local, DefaultContext\n",
    "from pyecsca.misc.cfg import getconfig"
   ]
  },
  {
   "cell_type": "markdown",
   "id": "3ebf204e-0bca-4395-baff-3927b4b59596",
   "metadata": {},
   "source": [
    "First, lets setup some useful objects. We will be working with Jacobian coordinates on Short-Weierstrass curves, but other systems and curves would work as well."
   ]
  },
  {
   "cell_type": "code",
   "execution_count": null,
   "id": "40c6448e-3c53-41c9-adb4-a5880c605751",
   "metadata": {},
   "outputs": [],
   "source": [
    "model = ShortWeierstrassModel()\n",
    "coordsaff = AffineCoordinateModel(model)\n",
    "which = \"jacobian\"\n",
    "coords = model.coordinates[which]\n",
    "secp256r1 = get_params(\"secg\", \"secp256r1\", which)\n",
    "\n",
    "def pp(poly):\n",
    "    # Pretty printing a sympy Poly\n",
    "    s = str(poly)[5:].split(\",\")[0]\n",
    "    sup = {\"0\": \"⁰\", \"1\": \"¹\", \"2\": \"²\", \"3\": \"³\", \"4\": \"⁴\", \"5\": \"⁵\", \"6\": \"⁶\", \"7\": \"⁷\", \"8\": \"⁸\", \"9\": \"⁹\"}\n",
    "    def repl(match):\n",
    "        return \"\".join(sup[ch] for ch in match.group(1))\n",
    "    return re.sub(r\"\\*\\*([0-9]+)\", repl, s).replace(\"*\", \" \")"
   ]
  },
  {
   "cell_type": "markdown",
   "id": "0edd6c68-a446-464b-9844-21213a3e2475",
   "metadata": {},
   "source": [
    "## Symbolic formula execution\n",
    "\n",
    "Now, lets use [sympy](https://www.sympy.org/en/index.html) polynomial arithmetic to execute a scalar multiplication symbolically, while keeping track of the intermediate values.\n",
    "\n",
    " - The following cell initializes a 64-bit prime order curve for demonstration purposes.\n",
    " - It then picks the `\"add-2007-bl\"` and `\"dbl-2007-bl\"` formulas and the LTR multiplier and symbolically executes a scalar multiplication `[5](X : Y : Z)`.\n",
    " - Finally, it prints the symbolic results of the execution.\n",
    " - The intermediates can be found in the `ctx` context."
   ]
  },
  {
   "cell_type": "code",
   "execution_count": null,
   "id": "f82b2791-f09f-4ff5-8584-0955fcedf5a5",
   "metadata": {},
   "outputs": [],
   "source": [
    "getconfig().ec.mod_implementation = \"symbolic\"\n",
    "x, y, z = symbols(\"x y z\")\n",
    "\n",
    "# A 64-bit prime order curve for testing things out\n",
    "p = 0xc50de883f0e7b167\n",
    "field = FF(p)\n",
    "a = SymbolicMod(Poly(0x4833d7aa73fa6694, x, y, z, domain=field), p)\n",
    "b = SymbolicMod(Poly(0xa6c44a61c5323f6a, x, y, z, domain=field), p)\n",
    "gx = SymbolicMod(Poly(0x5fd1f7d38d4f2333, x, y, z, domain=field), p)\n",
    "gy = SymbolicMod(Poly(0x21f43957d7e20ceb, x, y, z, domain=field), p)\n",
    "n = 0xc50de885003b80eb\n",
    "h = 1\n",
    "\n",
    "infty = Point(coords, X=mod(0, p), Y=mod(1, p), Z=mod(0, p))\n",
    "g = Point(coords, X=gx, Y=gy, Z=mod(1, p))\n",
    "\n",
    "curve = EllipticCurve(model, coords, p, infty, dict(a=a,b=b))\n",
    "params = DomainParameters(curve, g, n, h)\n",
    "\n",
    "\n",
    "add = coords.formulas[\"add-2007-bl\"]\n",
    "dbl = coords.formulas[\"dbl-2007-bl\"]\n",
    "mult = LTRMultiplier(add, dbl, None, False, AccumulationOrder.PeqRP, True, True)\n",
    "\n",
    "\n",
    "point = Point(coords,\n",
    "              X=SymbolicMod(Poly(x, x, y, z, domain=field), params.curve.prime),\n",
    "              Y=SymbolicMod(Poly(y, x, y, z, domain=field), params.curve.prime),\n",
    "              Z=SymbolicMod(Poly(z, x, y, z, domain=field), params.curve.prime))\n",
    "with local(DefaultContext()) as ctx:\n",
    "    mult.init(params, point)\n",
    "    res = mult.multiply(5)\n",
    "\n",
    "x_poly = Poly(res.X.x, domain=field)\n",
    "y_poly = Poly(res.Y.x, domain=field)\n",
    "z_poly = Poly(res.Z.x, domain=field)\n",
    "display(x_poly, y_poly, z_poly)\n",
    "\n",
    "getconfig().ec.mod_implementation = \"python\""
   ]
  },
  {
   "cell_type": "markdown",
   "id": "c1d6a523-dcf8-49e2-8ec2-b972a92992e0",
   "metadata": {},
   "source": [
    "The three output coordinates are polynomials in the coordinates of the input point `(X : Y : Z)`."
   ]
  },
  {
   "cell_type": "markdown",
   "id": "295904d9-cbb3-4813-99e8-ab3064e9dcfd",
   "metadata": {},
   "source": [
    "Let's now look at the intermediates in the `ctx` context.\n",
    "\n",
    " - The following cell prints the symbolic intermediate values as they appeared in the execution of the formulas."
   ]
  },
  {
   "cell_type": "code",
   "execution_count": null,
   "id": "748ba78e-7e4d-451f-a07b-0895721b9356",
   "metadata": {},
   "outputs": [],
   "source": [
    "for formula_node in ctx.actions[0].children:\n",
    "    print(formula_node.action.formula.shortname)\n",
    "    for opres in formula_node.action.op_results:\n",
    "        name = opres.name.ljust(5)\n",
    "        output = \"*\" if opres.name in formula_node.action.formula.outputs else \" \"\n",
    "        value = pp(opres.value)\n",
    "        print(name, output, value[:120] + \"...\" if len(value) > 100 else value)\n",
    "    print()"
   ]
  },
  {
   "cell_type": "markdown",
   "id": "bec7ef0c-edb8-4ca6-af94-66f8df4075d1",
   "metadata": {},
   "source": [
    "We can also unroll individual formulas with symbolic inputs `(X1 : Y1 : Z1)` and `(X2 : Y2 : Z2)`. This gives a list of polynomials in these input variables as well as in the curve parameters `a` and `b`. Here, we are unrolling two different addition formulas, one is the `add-2007-bl` as above, the other is `add-1986-cc`."
   ]
  },
  {
   "cell_type": "code",
   "execution_count": null,
   "id": "44cd1e83-5873-4d1f-89c7-efbc7b0bc777",
   "metadata": {},
   "outputs": [],
   "source": [
    "from pyecsca.ec.formula.unroll import unroll_formula\n",
    "\n",
    "one_add = add\n",
    "other_add = coords.formulas[\"add-1986-cc\"]\n",
    "\n",
    "unrolled_one = unroll_formula(one_add)\n",
    "print(one_add)\n",
    "for (name, val), op in zip(unrolled_one, add.code):\n",
    "    print(str(op).ljust(15), pp(val))\n",
    "print(\"\\n\")\n",
    "\n",
    "unrolled_other = unroll_formula(other_add)\n",
    "print(other_add)\n",
    "for (name, val), op in zip(unrolled_other, other_add.code):\n",
    "    print(str(op).ljust(15), pp(val))"
   ]
  },
  {
   "cell_type": "markdown",
   "id": "39153fc5-ec98-4923-855a-8b64e6b8f88c",
   "metadata": {},
   "source": [
    "**Task**: Think about how you would try to distinguish between these two formulas?"
   ]
  },
  {
   "cell_type": "markdown",
   "id": "6e83dad5-1037-4357-bd77-8cb0c89143b7",
   "metadata": {},
   "source": [
    "## Constructing ZVP points\n",
    "\n",
    "To distinguish between the two example formulas we will look at their intermediates as a set of polynomials. We will take this set, map it to affine coordinates, filter it and factor the polynomials into irreducible factors. The resulting set we will call the formula's *factor set*. The details of the filtering are too complicated, you can consult the [compute_factor_set](https://github.com/J08nY/pyecsca/blob/master/pyecsca/sca/re/zvp.py#L146-L195) function source for more. The gist of it is that we filter out polynomials that we cannot reliably force to zero. Note that after this step, very little polynomials remain."
   ]
  },
  {
   "cell_type": "code",
   "execution_count": null,
   "id": "46819f52-9dfd-43c9-bd80-d1008c83a131",
   "metadata": {},
   "outputs": [],
   "source": [
    "from pyecsca.sca.re.zvp import compute_factor_set"
   ]
  },
  {
   "cell_type": "code",
   "execution_count": null,
   "id": "ebc5c333-183e-4474-846a-2ffd964b2312",
   "metadata": {},
   "outputs": [],
   "source": [
    "fset_one = compute_factor_set(one_add)\n",
    "for poly in fset_one:\n",
    "    print(pp(poly))\n",
    "print(\"------\")\n",
    "fset_other = compute_factor_set(other_add)\n",
    "for poly in fset_other:\n",
    "    print(pp(poly))"
   ]
  },
  {
   "cell_type": "markdown",
   "id": "c08a5ad9-8cbe-4415-9ef1-e327f510f7c4",
   "metadata": {},
   "source": [
    "Let's take one polynomial that is in the factor set of the first formula but not in the second."
   ]
  },
  {
   "cell_type": "code",
   "execution_count": null,
   "id": "aeba47fe-dd28-4284-a98b-ba3234a31e53",
   "metadata": {},
   "outputs": [],
   "source": [
    "diffs = fset_one.difference(fset_other)\n",
    "print(diffs)\n",
    "poly = diffs.pop()"
   ]
  },
  {
   "cell_type": "markdown",
   "id": "a0349ff9-12a4-4169-a6a2-ebcd95f2eb7b",
   "metadata": {},
   "source": [
    "This is the polynomial we want to be able to force to zero during a particular formula execution. Imagine a scalar multiplication with a known scalar (on a known curve) in which we control the input point. We can simulate the scalar multiplier and obtain the addition chain for a given scalar (i.e. a sequence of add/dbl formula applications with discrete log relationships between their input points).\n",
    "\n",
    "Let's say the addition chain looks as follows:\n",
    "```\n",
    "dbl(P)\n",
    "add(P, 2P)\n",
    "dbl(2P)\n",
    "add(P, 4P)\n",
    "...\n",
    "```\n",
    "\n",
    "**Task**: How would you force a zero in a particular `add` formula application (i.e. come up with a point P)?\n",
    "\n",
    "**Solution**:\n",
    "\n",
    "For each `add()` call above we can try to construct a ZVP point that zeros the target polynomial when the given discrete log relationship between the points holds. The way we do this is quite simple: substitute in the multiplication-by-n (`n=4` for `add(P, 4P)`) map for the variables `x2`, `y2`, then eliminate the `y` variables using the curve equation, finally substitute the curve parameters and find roots of the given univariate polynomial. However, for many relationships there is going to be no such point. See the [A formula for disaster: a unified approach to elliptic curve special-point-based attacks](https://crocs.fi.muni.cz/public/papers/formulas_asiacrypt21) paper for more details of this construction (DCP problem solving).\n",
    "\n",
    "The following cell constructs ZVP point(s) for the above polynomial, on the secp256r1 curve and the dlog relationship in `add(P, 4P)`."
   ]
  },
  {
   "cell_type": "code",
   "execution_count": null,
   "id": "df06ee10-f263-4c0d-938e-1859c8960cb3",
   "metadata": {},
   "outputs": [],
   "source": [
    "from pyecsca.sca.re.zvp import zvp_points\n",
    "\n",
    "pts = zvp_points(poly, secp256r1.curve, 4, secp256r1.order)\n",
    "print(pts)"
   ]
  },
  {
   "cell_type": "markdown",
   "id": "9c5d7437-1239-4fed-98c6-1a2c6101cd7e",
   "metadata": {},
   "source": [
    "## Distinguishing formulas\n",
    "\n",
    "Let's now use these points for distinguishing between the two formulas. We will iterate over the two formulas and simulate the `add(P, 4P)` formula application with each formula, using the computed ZVP points for `P`. We will track the intermediate values and see whether they contain a zero.\n",
    "\n",
    "**Task**: What do you expect to see with regards to the zero intermediate values in the two formulas?"
   ]
  },
  {
   "cell_type": "code",
   "execution_count": null,
   "id": "db5a44bd-7c91-4573-9f28-3ed6155db39e",
   "metadata": {},
   "outputs": [],
   "source": [
    "for formula in (one_add, other_add):\n",
    "    for point in pts:\n",
    "        print(formula, \"input point\", point)\n",
    "        # Compute the [4]P to input into the formula\n",
    "        multiple = secp256r1.curve.affine_multiply(point, 4)\n",
    "        # Transform into Jacobian (randomized!)\n",
    "        point_jacobian = point.to_model(coords, secp256r1.curve, randomized=True)\n",
    "        multiple_jacobian = multiple.to_model(coords, secp256r1.curve, randomized=True)\n",
    "        # Simulate the formula application while keeping track of intermediates\n",
    "        with local(DefaultContext()) as fctx:\n",
    "            result = formula(secp256r1.curve.prime, point_jacobian, multiple_jacobian, **secp256r1.curve.parameters)\n",
    "        # Go over the intermediates and spot the zero.\n",
    "        zero = False\n",
    "        for opres in fctx.actions[0].action.op_results:\n",
    "            zero |= opres.value == 0\n",
    "            print(opres.name.ljust(5), \"!!!\" if opres.value == 0 else \"   \" , opres.value)\n",
    "        print(\"zero observed\" if zero else \"no zero observed\")\n",
    "        print()"
   ]
  },
  {
   "cell_type": "markdown",
   "id": "d59206d5-e040-4e43-a499-adcc5fb55b83",
   "metadata": {},
   "source": [
    "As you can see, we successfully introduced a zero intermediate value into the formula call `add-2007-bl(P, 4P)` but not into `add-1986-cc(P, 4P)`. Assuming we can detect the zero using a side-channel we can now distinguish the two formulas. Extending this to multiple formulas leads to the same overal RE strategy as in RPA, only the configurations, the inputs and the oracle used to build the decision table change. Consider the table below:\n",
    "\n",
    "<img src=\"../img/zvp_table.svg\" alt=\"drawing\" width=\"100%\" style=\"margin: auto\"/>\n",
    "\n",
    "Read [the paper](https://pyecsca.org/papers.html?utm_source=tutorial-ches2024#pyecsca-reverse-engineering-black-box-elliptic-curve-cryptography-via-side-channel-analysis) for more information on this and other RE techniques."
   ]
  },
  {
   "cell_type": "code",
   "execution_count": null,
   "id": "f12d849b-fcc4-40ab-b04d-defc6bb58fe9",
   "metadata": {},
   "outputs": [],
   "source": []
  }
 ],
 "metadata": {
  "kernelspec": {
   "display_name": "Python 3 (ipykernel)",
   "language": "python",
   "name": "python3"
  },
  "language_info": {
   "codemirror_mode": {
    "name": "ipython",
    "version": 3
   },
   "file_extension": ".py",
   "mimetype": "text/x-python",
   "name": "python",
   "nbconvert_exporter": "python",
   "pygments_lexer": "ipython3",
   "version": "3.12.4"
  }
 },
 "nbformat": 4,
 "nbformat_minor": 5
}
